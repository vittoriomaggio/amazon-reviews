{
 "cells": [
  {
   "cell_type": "markdown",
   "metadata": {},
   "source": [
    "# Wordcloud #"
   ]
  },
  {
   "cell_type": "code",
   "execution_count": null,
   "metadata": {},
   "outputs": [],
   "source": [
    "import nltk\n",
    "nltk.download('punkt')\n",
    "nltk.download('stopwords')\n",
    "import numpy as np\n",
    "import pandas as pd\n",
    "import string\n",
    "import itertools\n",
    "import matplotlib.pyplot as plt\n",
    "%matplotlib inline\n",
    "\n",
    "from afinn import Afinn\n",
    "from nltk import wordpunct_tokenize\n",
    "from nltk.corpus import stopwords\n",
    "from nltk.tokenize import TweetTokenizer\n",
    "from nltk.tokenize import word_tokenize\n",
    "from nltk.tokenize import word_tokenize\n",
    "from collections import Counter\n",
    "from nltk.stem.lancaster import LancasterStemmer\n",
    "from PIL import Image\n",
    "from wordcloud import WordCloud\n",
    "from sklearn.feature_extraction.text import CountVectorizer\n",
    "\n",
    "dataset = pd.read_csv(\"tokenizedDataset.csv\")"
   ]
  },
  {
   "cell_type": "code",
   "execution_count": null,
   "metadata": {},
   "outputs": [],
   "source": [
    "sentences = (list(itertools.chain(dataset[\"tokens\"])))\n",
    "flat_list = [item for sublist in sentences for item in sublist]\n",
    "c = Counter(flat_list)\n",
    "c.most_common(10)\n",
    "\n",
    "fig = plt.figure(figsize=(20,14))\n",
    "wordcloud = WordCloud(background_color=\"white\").generate(\" \".join(flat_list))\n",
    "plt.imshow(wordcloud,interpolation='bilinear')\n",
    "plt.axis(\"off\")"
   ]
  },
  {
   "cell_type": "code",
   "execution_count": null,
   "metadata": {},
   "outputs": [],
   "source": [
    "sentences2 = (list(itertools.chain(dataset[\"tokens_stemming\"])))\n",
    "flat_list2 = [item for sublist in sentences2 for item in sublist2]\n",
    "c2 = Counter(flat_list)\n",
    "c2.most_common(10)\n",
    "\n",
    "fig2 = plt.figure(figsize=(20,14))\n",
    "wordcloud2 = WordCloud(background_color=\"white\").generate(\" \".join(flat_list2))\n",
    "plt.imshow(wordcloud2,interpolation='bilinear')\n",
    "plt.axis(\"off\")"
   ]
  }
 ],
 "metadata": {
  "kernelspec": {
   "display_name": "Python 3",
   "language": "python",
   "name": "python3"
  },
  "language_info": {
   "codemirror_mode": {
    "name": "ipython",
    "version": 3
   },
   "file_extension": ".py",
   "mimetype": "text/x-python",
   "name": "python",
   "nbconvert_exporter": "python",
   "pygments_lexer": "ipython3",
   "version": "3.7.4"
  }
 },
 "nbformat": 4,
 "nbformat_minor": 2
}
